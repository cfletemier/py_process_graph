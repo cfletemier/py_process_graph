{
 "cells": [
  {
   "cell_type": "code",
   "execution_count": 24,
   "metadata": {
    "collapsed": false
   },
   "outputs": [
    {
     "name": "stdout",
     "output_type": "stream",
     "text": [
      "2\n",
      "{'PPid': 0, 'Name': 'init'}\n",
      "{'PPid': 0, 'Name': 'init'}\n",
      "2\n"
     ]
    },
    {
     "ename": "KeyError",
     "evalue": "'Name'",
     "output_type": "error",
     "traceback": [
      "\u001b[0;31m---------------------------------------------------------------------------\u001b[0m",
      "\u001b[0;31mKeyError\u001b[0m                                  Traceback (most recent call last)",
      "\u001b[0;32m<ipython-input-24-ef71ec82bf2d>\u001b[0m in \u001b[0;36m<module>\u001b[0;34m()\u001b[0m\n\u001b[1;32m     56\u001b[0m         \u001b[0mG\u001b[0m\u001b[0;34m.\u001b[0m\u001b[0madd_node\u001b[0m\u001b[0;34m(\u001b[0m\u001b[0mname\u001b[0m\u001b[0;34m)\u001b[0m\u001b[0;34m\u001b[0m\u001b[0m\n\u001b[1;32m     57\u001b[0m         \u001b[0mparent_info\u001b[0m \u001b[0;34m=\u001b[0m \u001b[0mgetProcessInfo\u001b[0m\u001b[0;34m(\u001b[0m\u001b[0mp_info\u001b[0m\u001b[0;34m[\u001b[0m\u001b[0;34m'PPid'\u001b[0m\u001b[0;34m]\u001b[0m\u001b[0;34m)\u001b[0m\u001b[0;34m\u001b[0m\u001b[0m\n\u001b[0;32m---> 58\u001b[0;31m         \u001b[0mG\u001b[0m\u001b[0;34m.\u001b[0m\u001b[0madd_edge\u001b[0m\u001b[0;34m(\u001b[0m\u001b[0mp_info\u001b[0m\u001b[0;34m[\u001b[0m\u001b[0;34m'Name'\u001b[0m\u001b[0;34m]\u001b[0m\u001b[0;34m,\u001b[0m \u001b[0mparent_info\u001b[0m\u001b[0;34m[\u001b[0m\u001b[0;34m'Name'\u001b[0m\u001b[0;34m]\u001b[0m\u001b[0;34m)\u001b[0m\u001b[0;34m\u001b[0m\u001b[0m\n\u001b[0m\u001b[1;32m     59\u001b[0m \u001b[0;34m\u001b[0m\u001b[0m\n\u001b[1;32m     60\u001b[0m \u001b[0mnx\u001b[0m\u001b[0;34m.\u001b[0m\u001b[0mdraw\u001b[0m\u001b[0;34m(\u001b[0m\u001b[0mG\u001b[0m\u001b[0;34m,\u001b[0m \u001b[0mwith_labels\u001b[0m\u001b[0;34m=\u001b[0m\u001b[0;32mTrue\u001b[0m\u001b[0;34m,\u001b[0m \u001b[0mnode_size\u001b[0m\u001b[0;34m=\u001b[0m\u001b[0;36m2000\u001b[0m\u001b[0;34m)\u001b[0m\u001b[0;34m\u001b[0m\u001b[0m\n",
      "\u001b[0;31mKeyError\u001b[0m: 'Name'"
     ]
    },
    {
     "data": {
      "text/plain": [
       "<Figure size 2880x2880 with 0 Axes>"
      ]
     },
     "metadata": {},
     "output_type": "display_data"
    }
   ],
   "source": [
    "import networkx as nx\n",
    "import matplotlib.pyplot as plt\n",
    "import os.path\n",
    "\n",
    "import glob\n",
    "\n",
    "pids = [int(os.path.basename(os.path.normpath(path))) for path in glob.glob('/proc/[0-9]*')]\n",
    "\n",
    "\n",
    "def getProcessInfo(pid):\n",
    "\n",
    "    if pid == \"0\":\n",
    "        return {'PPid' : 0, 'Name' : \"init\" }\n",
    "    \n",
    "    else:\n",
    "    \n",
    "        f = open('/proc/' + str(pid) + '/status','r')\n",
    "    \n",
    "        lines = [line.strip() for line in f.readlines()]\n",
    "        info = dict([ [l.strip() for l in line.split(':')] for line in lines if len(line.split(':')) == 2])\n",
    "    \n",
    "        f.close()\n",
    "    \n",
    "    return info    \n",
    "\n",
    "# PPid\n",
    "# Name\n",
    "\n",
    "\n",
    "G = nx.Graph()\n",
    "\n",
    "plt.figure(figsize=(40,40))\n",
    "\n",
    "\n",
    "for process in pids:\n",
    "    p_info = getProcessInfo(process)    \n",
    "    \n",
    "    \n",
    "    if process == 0:\n",
    "        G.add_node('init')\n",
    "        \n",
    "        #G.add_edge(p_info['Name'], 'init')\n",
    "    else:\n",
    "        try:\n",
    "            name = p_info['Name']\n",
    "        except:\n",
    "            'Unknown'\n",
    "        \n",
    "        try:\n",
    "            parent_id = parent_info['Pid'])\n",
    "        except:\n",
    "            parent_id = \n",
    "            \n",
    "        G.add_node(name)\n",
    "        parent_info = getProcessInfo(p_info['PPid'])\n",
    "        G.add_edge(p_info['Name'], parent_info['Name'])\n",
    "        \n",
    "nx.draw(G, with_labels=True, node_size=2000)\n",
    "plt.savefig('out.png')\n",
    "plt.show()\n",
    "\n"
   ]
  },
  {
   "cell_type": "code",
   "execution_count": 3,
   "metadata": {},
   "outputs": [],
   "source": []
  },
  {
   "cell_type": "code",
   "execution_count": 1,
   "metadata": {},
   "outputs": [],
   "source": []
  },
  {
   "cell_type": "code",
   "execution_count": null,
   "metadata": {},
   "outputs": [],
   "source": []
  }
 ],
 "metadata": {
  "kernelspec": {
   "display_name": "Python 3",
   "language": "python",
   "name": "python3"
  },
  "language_info": {
   "codemirror_mode": {
    "name": "ipython",
    "version": 3
   },
   "file_extension": ".py",
   "mimetype": "text/x-python",
   "name": "python",
   "nbconvert_exporter": "python",
   "pygments_lexer": "ipython3",
   "version": "3.6.4"
  }
 },
 "nbformat": 4,
 "nbformat_minor": 2
}
